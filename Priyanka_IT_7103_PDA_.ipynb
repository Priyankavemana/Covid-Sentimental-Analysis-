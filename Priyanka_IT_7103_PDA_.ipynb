{
  "nbformat": 4,
  "nbformat_minor": 0,
  "metadata": {
    "colab": {
      "provenance": [],
      "toc_visible": true,
      "authorship_tag": "ABX9TyMAvS28I0X+/OHBRkvvzhNb",
      "include_colab_link": true
    },
    "kernelspec": {
      "name": "python3",
      "display_name": "Python 3"
    },
    "language_info": {
      "name": "python"
    }
  },
  "cells": [
    {
      "cell_type": "markdown",
      "metadata": {
        "id": "view-in-github",
        "colab_type": "text"
      },
      "source": [
        "<a href=\"https://colab.research.google.com/github/Priyankavemana/Covid-Sentimental-Analysis-/blob/main/Priyanka_IT_7103_PDA_.ipynb\" target=\"_parent\"><img src=\"https://colab.research.google.com/assets/colab-badge.svg\" alt=\"Open In Colab\"/></a>"
      ]
    },
    {
      "cell_type": "code",
      "execution_count": null,
      "metadata": {
        "id": "GmHbGi_pZhEC"
      },
      "outputs": [],
      "source": []
    },
    {
      "cell_type": "markdown",
      "source": [
        "VEMANA HEMA PRIYANKA\n",
        "PRACTICAL DATA ANALYTICS - IT 7013\n",
        "ASSIGNMENT"
      ],
      "metadata": {
        "id": "pcBKFj2LElZm"
      }
    },
    {
      "cell_type": "code",
      "source": [
        "print(\"hello everyone\")"
      ],
      "metadata": {
        "colab": {
          "base_uri": "https://localhost:8080/"
        },
        "id": "s1PHa8tAEx5B",
        "outputId": "8c2f0f17-7ff0-4a6d-a565-c2ef5ad10221"
      },
      "execution_count": null,
      "outputs": [
        {
          "output_type": "stream",
          "name": "stdout",
          "text": [
            "hello everyone\n"
          ]
        }
      ]
    }
  ]
}